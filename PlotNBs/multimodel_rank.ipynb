{
 "cells": [
  {
   "cell_type": "code",
   "execution_count": 1,
   "id": "93a9779d",
   "metadata": {},
   "outputs": [],
   "source": [
    "import os\n",
    "import sys\n",
    "sys.path.insert(1,'/home/bwhiteak/ChaosESN/ESN_utils/')\n",
    "\n",
    "import numpy as np\n",
    "import matplotlib.pyplot as plt\n",
    "import rc_tools as rct\n",
    "import rc_matrices as rcm\n",
    "import rc_analysis as rca\n",
    "from scipy.optimize import fsolve\n",
    "import time\n",
    "\n",
    "import pdb"
   ]
  },
  {
   "cell_type": "code",
   "execution_count": 2,
   "id": "82f48719",
   "metadata": {},
   "outputs": [],
   "source": [
    "def rank_curve(cplus, tols):\n",
    "    rank_tols = []\n",
    "    for i in tols:\n",
    "        rank_tols.append(rca.rank(cplus, i))\n",
    "    return np.array(rank_tols)"
   ]
  },
  {
   "cell_type": "code",
   "execution_count": 3,
   "id": "9a34a5cd",
   "metadata": {},
   "outputs": [
    {
     "name": "stdout",
     "output_type": "stream",
     "text": [
      "Ave rank for N=10 is 2\n",
      "Ave rank for N=20 is 11\n",
      "Ave rank for N=30 is 24\n",
      "Ave rank for N=40 is 28\n",
      "Ave rank for N=50 is 34\n",
      "Ave rank for N=100 is 46\n",
      "Ave rank for N=200 is 29\n",
      "Ave rank for N=300 is 174\n",
      "Ave rank for N=400 is 261\n",
      "Ave rank for N=500 is 12\n",
      "Ave rank for N=600 is 131\n",
      "Ave rank for N=700 is 254\n",
      "Ave rank for N=800 is 164\n",
      "Ave rank for N=900 is 174\n",
      "Ave rank for N=1000 is 23\n",
      "Saving to...  ./NBoutputs/mmMGranks\n"
     ]
    }
   ],
   "source": [
    "sizes = [10,20,30,40,50,100,200,300,400,500,600,700,800,900,1000]\n",
    "target_path = ['../Targets/Xsignal.npy',\n",
    "              '../Targets/Zsignal.npy',\n",
    "              '../Targets/MGsignal.npy',\n",
    "              '../Targets/L3Dsignal.npy']\n",
    "model_dir = ['../X_Saved_Models',\n",
    "             '../Z_Saved_Models',\n",
    "             '../MG_Saved_Models',\n",
    "             '../L3D_Saved_Models']\n",
    "sig_str = ['X','Z','MG','L3D']\n",
    "SIGNUM = 2\n",
    "K=1\n",
    "tols = [1/10**x for x in range(0,30)]\n",
    "reps = 1\n",
    "rank_arr = np.zeros((reps, len(sizes)))\n",
    "\n",
    "for rp in range(reps):\n",
    "    counter = 0\n",
    "    for n in sizes:\n",
    "        forcing = np.load(target_path[SIGNUM], allow_pickle=True)\n",
    "        wnet_dir = 'best/Wnet'\n",
    "        wnet_str  = sig_str[SIGNUM]+f'_{n}_Wnet.npy'\n",
    "        fwpath = os.path.join(model_dir[SIGNUM],wnet_dir,wnet_str)\n",
    "        \n",
    "        param_dir = 'best/Params'\n",
    "        param_str = sig_str[SIGNUM]+f'_{n}_Params.npy'\n",
    "        fppath = os.path.join(model_dir[SIGNUM],param_dir,param_str)\n",
    "        try:\n",
    "            p = np.load(fppath, allow_pickle=True)\n",
    "        except:\n",
    "            counter += 1\n",
    "            continue\n",
    "        \n",
    "        Wr, Wi = rca.get_mats(fwpath, K,n)\n",
    "        a,g = p[0],p[2]\n",
    "        x0 = np.zeros((n,1))\n",
    "        u0 = np.zeros((K,1))\n",
    "        A = rca.leaky_jacobian(x0, u0, a, g, Wi, Wr)\n",
    "        B = rca.partial_u(x0, u0, a, g, Wi, Wr)\n",
    "        Cn = np.nan_to_num(rca.reachable_matrix(A,B))\n",
    "        if(SIGNUM != 3): # Square Cn\n",
    "            Cn = Cn/np.max(rca.eig_spectrum(Cn))\n",
    "        else:            # Non-square Cn\n",
    "            Cn = Cn/np.max(np.linalg.svd(Cn, compute_uv=False))\n",
    "\n",
    "        rkc = rank_curve(Cn, tols)\n",
    "        v = np.argmax(np.gradient(rkc))-1\n",
    "        ave_rank = (rkc[v]+rkc[v+1])//2\n",
    "        print(f'Ave rank for N={n} is {ave_rank}')\n",
    "        rank_arr[rp, counter] = ave_rank\n",
    "        counter += 1\n",
    "        \n",
    "print('Saving to... ',\n",
    "      f'./NBoutputs/mm{sig_str[SIGNUM]}ranks')\n",
    "np.save(f'./NBoutputs/mm{sig_str[SIGNUM]}ranks', rank_arr)"
   ]
  },
  {
   "cell_type": "code",
   "execution_count": 4,
   "id": "8d900ae7",
   "metadata": {},
   "outputs": [
    {
     "data": {
      "text/plain": [
       "array([91.13333333])"
      ]
     },
     "execution_count": 4,
     "metadata": {},
     "output_type": "execute_result"
    }
   ],
   "source": [
    "np.mean(rank_arr, axis=1)"
   ]
  },
  {
   "cell_type": "code",
   "execution_count": 5,
   "id": "fff3f802",
   "metadata": {},
   "outputs": [
    {
     "data": {
      "text/plain": [
       "array([[  2.,  11.,  24.,  28.,  34.,  46.,  29., 174., 261.,  12., 131.,\n",
       "        254., 164., 174.,  23.]])"
      ]
     },
     "execution_count": 5,
     "metadata": {},
     "output_type": "execute_result"
    }
   ],
   "source": [
    "rank_arr"
   ]
  },
  {
   "cell_type": "code",
   "execution_count": null,
   "id": "f316f161",
   "metadata": {},
   "outputs": [],
   "source": []
  }
 ],
 "metadata": {
  "kernelspec": {
   "display_name": "Python 3 (ipykernel)",
   "language": "python",
   "name": "python3"
  },
  "language_info": {
   "codemirror_mode": {
    "name": "ipython",
    "version": 3
   },
   "file_extension": ".py",
   "mimetype": "text/x-python",
   "name": "python",
   "nbconvert_exporter": "python",
   "pygments_lexer": "ipython3",
   "version": "3.8.12"
  }
 },
 "nbformat": 4,
 "nbformat_minor": 5
}
