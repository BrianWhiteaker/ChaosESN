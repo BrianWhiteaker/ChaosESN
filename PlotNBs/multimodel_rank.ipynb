{
 "cells": [
  {
   "cell_type": "code",
   "execution_count": 1,
   "id": "93a9779d",
   "metadata": {},
   "outputs": [],
   "source": [
    "import os\n",
    "import sys\n",
    "sys.path.insert(1,'/home/bwhiteak/ChaosESN/ESN_utils/')\n",
    "\n",
    "import numpy as np\n",
    "import matplotlib.pyplot as plt\n",
    "import rc_tools as rct\n",
    "import rc_matrices as rcm\n",
    "import rc_analysis as rca\n",
    "from scipy.optimize import fsolve\n",
    "import time\n",
    "\n",
    "import pdb"
   ]
  },
  {
   "cell_type": "code",
   "execution_count": 3,
   "id": "82f48719",
   "metadata": {},
   "outputs": [],
   "source": [
    "def rank_along_trajectory(wr, wi, a, g, forcing, n, k, tolerance):\n",
    "    #pdb.set_trace()\n",
    "    T = forcing.shape[0]\n",
    "    ranks = np.zeros(T)\n",
    "    conds = np.zeros(T)\n",
    "    radii = np.zeros(T)\n",
    "    def Func(x):\n",
    "        return np.squeeze(-x.reshape(n,1) + (1-a)*x.reshape(n,1) +\\\n",
    "                          a*g*np.tanh(np.dot(wr,x.reshape(n,1)) +\\\n",
    "                         (np.dot(wi,ueq.reshape(k,1)).reshape(n,1))))\n",
    "    for i in range(T):\n",
    "        start = time.time()\n",
    "        ueq = forcing[i]\n",
    "        x0 = np.ones((n,1))*.1\n",
    "        xeq = (fsolve(Func,x0)).reshape(n,1)\n",
    "        A = rca.leaky_jacobian(xeq, ueq.reshape(k,1), a, g, Wi, Wr)\n",
    "        radii[i] = np.max(np.abs(rca.eig_spectrum(A)))\n",
    "        conds[i] = rca.condition_number(A)[0]\n",
    "        B = rca.partial_u(xeq, ueq.reshape(k,1), a, g, Wi, Wr)\n",
    "        Cn = rca.reachable_matrix(A, B)\n",
    "        Cn = Cn/np.max(rca.eig_spectrum(Cn))\n",
    "        ranks[i] = rca.rank(Cn, tolerance)\n",
    "        if(i%10==0):\n",
    "            runtime = time.time()-start\n",
    "            print(f'Time: {runtime:.2f} Column: {i} Rank: {ranks[i]} CondNum: {conds[i]:.2f}')\n",
    "    return ranks, conds, radii\n",
    "\n",
    "def rank_curve(cplus, tols):\n",
    "    rank_tols = []\n",
    "    for i in tols:\n",
    "        rank_tols.append(rca.rank(cplus, i))\n",
    "    return np.array(rank_tols)"
   ]
  },
  {
   "cell_type": "code",
   "execution_count": 25,
   "id": "9a34a5cd",
   "metadata": {},
   "outputs": [
    {
     "name": "stdout",
     "output_type": "stream",
     "text": [
      "[  4.  85.  31. 101. 154. 221. 147. 353. 110.  88. 125.]\n"
     ]
    }
   ],
   "source": [
    "sizes = [50,100,200,300,400,500,600,700,800,900,1000]\n",
    "target_path = ['../Targets/Xsignal.npy',\n",
    "              '../Targets/Zsignal.npy',\n",
    "              '../Targets/MGsignal.npy',\n",
    "              '../Targets/L3Dsignal.npy']\n",
    "model_dir = ['../X_Saved_Models',\n",
    "             '../Z_Saved_Models',\n",
    "             '../MG_Saved_Models',\n",
    "             '../L3D_Saved_Models']\n",
    "SIGNUM = 3\n",
    "K=1\n",
    "tols = [1/10**x for x in range(0,30)]\n",
    "\n",
    "rank_arr = np.zeros(len(sizes))\n",
    "counter = 0\n",
    "for n in sizes:\n",
    "    forcing = np.load(target_path[SIGNUM], allow_pickle=True)\n",
    "    wnet_dir = 'best/Wnet'\n",
    "    wnet_str  = f'L3D_{n}_Wnet.npy'\n",
    "    fwpath = os.path.join(model_dir[SIGNUM],wnet_dir,wnet_str)\n",
    "\n",
    "    param_dir = 'best/Params'\n",
    "    param_str = f'L3D_{n}_Params.npy'\n",
    "    fppath = os.path.join(model_dir[SIGNUM],param_dir,param_str)\n",
    "    p = np.load(fppath, allow_pickle=True)\n",
    "    Wr, Wi = rca.get_mats(fwpath, K,n)\n",
    "    a,g = p[0],p[2]\n",
    "    x0 = np.zeros((n,1))\n",
    "    u0 = np.zeros((1,1))\n",
    "    A = rca.leaky_jacobian(x0, u0, a, g, Wi, Wr)\n",
    "    B = rca.partial_u(x0, u0, a, g, Wi, Wr)\n",
    "    Cn = np.nan_to_num(rca.reachable_matrix(A,B))\n",
    "    Cn = Cn/np.max(rca.eig_spectrum(Cn))\n",
    "    \n",
    "    rank_by_tol = []\n",
    "    for i in tols:\n",
    "        rank_by_tol.append(rca.rank(Cn,i))\n",
    "    argmx = np.argmax(np.gradient(rank_by_tol))\n",
    "    rank_arr[counter] = rank_by_tol[argmx-1]\n",
    "    counter += 1\n",
    "print(rank_arr)\n",
    "np.save('./NBoutputs/mmL3Dranks', rank_arr)"
   ]
  },
  {
   "cell_type": "code",
   "execution_count": null,
   "id": "8d900ae7",
   "metadata": {},
   "outputs": [],
   "source": []
  }
 ],
 "metadata": {
  "kernelspec": {
   "display_name": "Python 3 (ipykernel)",
   "language": "python",
   "name": "python3"
  },
  "language_info": {
   "codemirror_mode": {
    "name": "ipython",
    "version": 3
   },
   "file_extension": ".py",
   "mimetype": "text/x-python",
   "name": "python",
   "nbconvert_exporter": "python",
   "pygments_lexer": "ipython3",
   "version": "3.8.12"
  }
 },
 "nbformat": 4,
 "nbformat_minor": 5
}
