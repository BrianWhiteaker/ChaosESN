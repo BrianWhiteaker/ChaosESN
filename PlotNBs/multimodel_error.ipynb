{
 "cells": [
  {
   "cell_type": "code",
   "execution_count": 1,
   "id": "0803d51d",
   "metadata": {},
   "outputs": [],
   "source": [
    "import os\n",
    "import sys\n",
    "sys.path.insert(1,'/home/bwhiteak/ChaosESN/ESN_utils/')\n",
    "\n",
    "import numpy as np\n",
    "import rc_analysis as rca"
   ]
  },
  {
   "cell_type": "code",
   "execution_count": 4,
   "id": "26f20926",
   "metadata": {},
   "outputs": [
    {
     "name": "stdout",
     "output_type": "stream",
     "text": [
      "Target Xsignal.npy shape is (16000,)\n",
      "NRMSE 0.22\n",
      "NRMSE 0.22\n",
      "NRMSE 0.20\n",
      "NRMSE 0.22\n",
      "NRMSE 0.21\n",
      "NRMSE 0.22\n",
      "NRMSE 0.21\n",
      "NRMSE 0.21\n",
      "NRMSE 0.23\n",
      "NRMSE 0.24\n",
      "NRMSE 0.18\n"
     ]
    }
   ],
   "source": [
    "# Get target and predictions\n",
    "TRAINLENGTH = 14000 \n",
    "TEST = 1000\n",
    "SIGNUM = 0\n",
    "target_dir = '../Targets'\n",
    "target_signals = ['Xsignal.npy',\n",
    "                  'Zsignal.npy',\n",
    "                  'MGsignal.npy',\n",
    "                  'L3Dsignal.npy']\n",
    "fpath = os.path.join(target_dir,target_signals[SIGNUM])\n",
    "target = np.load(fpath, allow_pickle=True)\n",
    "\n",
    "MINMAX = np.max(target[:TRAINLENGTH+TEST]) - \\\n",
    "         np.min(target[:TRAINLENGTH+TEST]) \n",
    "\n",
    "print(f'Target {target_signals[SIGNUM]} shape is {target.shape}')\n",
    "\n",
    "model_dir = ['../X_Saved_Models',\n",
    "             '../Z_Saved_Models',\n",
    "             '../MG_Saved_Models',\n",
    "             '../L3D_Saved_Models']\n",
    "preds_dir = 'best/Preds'\n",
    "sizes = [50,100,200,300,400,500,600,700,800,900,1000]\n",
    "for sz in sizes:\n",
    "    pred_str  = f'X_{sz}_Preds.npy'\n",
    "    fppath = os.path.join(model_dir[SIGNUM],preds_dir,pred_str)\n",
    "    prediction = np.squeeze(np.load(fppath, allow_pickle=True))\n",
    "    nrmse = rca.NRMSE(target[TRAINLENGTH:TRAINLENGTH+TEST],\n",
    "                      prediction[TRAINLENGTH:TRAINLENGTH+TEST],\n",
    "                      MINMAX)\n",
    "    print(f'NRMSE {nrmse:.2f}')"
   ]
  },
  {
   "cell_type": "code",
   "execution_count": null,
   "id": "896e0717",
   "metadata": {},
   "outputs": [],
   "source": []
  }
 ],
 "metadata": {
  "kernelspec": {
   "display_name": "Python 3 (ipykernel)",
   "language": "python",
   "name": "python3"
  },
  "language_info": {
   "codemirror_mode": {
    "name": "ipython",
    "version": 3
   },
   "file_extension": ".py",
   "mimetype": "text/x-python",
   "name": "python",
   "nbconvert_exporter": "python",
   "pygments_lexer": "ipython3",
   "version": "3.8.12"
  }
 },
 "nbformat": 4,
 "nbformat_minor": 5
}
