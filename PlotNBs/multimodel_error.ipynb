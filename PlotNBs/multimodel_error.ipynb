{
 "cells": [
  {
   "cell_type": "code",
   "execution_count": 14,
   "id": "0803d51d",
   "metadata": {},
   "outputs": [],
   "source": [
    "import os\n",
    "import sys\n",
    "sys.path.insert(1,'/home/bwhiteak/ChaosESN/ESN_utils/')\n",
    "from sklearn.metrics import mean_squared_error\n",
    "import numpy as np\n",
    "import rc_analysis as rca"
   ]
  },
  {
   "cell_type": "code",
   "execution_count": 17,
   "id": "01c608f6",
   "metadata": {},
   "outputs": [
    {
     "name": "stdout",
     "output_type": "stream",
     "text": [
      "Target MGsignal.npy shape is (21000,)\n",
      "Size 10 NRMSE 0.02\n",
      "Size 20 NRMSE 0.03\n",
      "Size 30 NRMSE 0.03\n",
      "Size 40 NRMSE 0.03\n",
      "Size 50 NRMSE 0.03\n",
      "Size 100 NRMSE 0.03\n",
      "Size 200 NRMSE 0.03\n",
      "Size 300 NRMSE 0.03\n",
      "Size 400 NRMSE 0.03\n",
      "Size 500 NRMSE 0.03\n",
      "Size 600 NRMSE 0.03\n",
      "Size 700 NRMSE 0.03\n",
      "Size 800 NRMSE 0.03\n",
      "Size 900 NRMSE 0.03\n",
      "Size 1000 NRMSE 0.03\n"
     ]
    }
   ],
   "source": [
    "# Get target and predictions\n",
    "TRAINLENGTH = 14000 \n",
    "TEST = 1000\n",
    "SIGNUM = 2\n",
    "# Load target signal\n",
    "sig_str = ['X','Z','MG','L3D']\n",
    "target_dir = '../Targets'\n",
    "target_signals = ['Xsignal.npy',\n",
    "                  'Zsignal.npy',\n",
    "                  'MGsignal.npy',\n",
    "                  'L3Dsignal.npy']\n",
    "fpath = os.path.join(target_dir,target_signals[SIGNUM])\n",
    "target = np.load(fpath, allow_pickle=True)\n",
    "# Find range for NRMSE\n",
    "MINMAX = np.max(target[:TRAINLENGTH+TEST]) - \\\n",
    "         np.min(target[:TRAINLENGTH+TEST]) \n",
    "print(f'Target {target_signals[SIGNUM]} shape is {target.shape}')\n",
    "\n",
    "# Load in model predictions\n",
    "model_dir = ['../X_Saved_Models',\n",
    "             '../Z_Saved_Models',\n",
    "             '../MG_Saved_Models',\n",
    "             '../L3D_Saved_Models']\n",
    "preds_dir = 'best/Preds'\n",
    "sizes = [10,20,30,40,50,100,200,300,400,500,600,700,800,900,1000]\n",
    "error_arr = np.zeros(len(sizes))\n",
    "\n",
    "for i in range(len(sizes)):\n",
    "    pred_str  = f'{sig_str[SIGNUM]}_{sizes[i]}_Preds.npy'\n",
    "    fppath = os.path.join(model_dir[SIGNUM],preds_dir,pred_str)\n",
    "    try:\n",
    "        loaded_pred = np.load(fppath, allow_pickle=True)\n",
    "    except:\n",
    "        print('Failed on... ', fppath)\n",
    "        continue\n",
    "    prediction = np.squeeze(loaded_pred)\n",
    "    if(SIGNUM != 3):\n",
    "        nrmse = rca.NRMSE(target[TRAINLENGTH:TRAINLENGTH+TEST],\n",
    "                          prediction[TRAINLENGTH:TRAINLENGTH+TEST],\n",
    "                          MINMAX)\n",
    "    else:\n",
    "        nrmse = np.max(mean_squared_error(target[TRAINLENGTH:TRAINLENGTH+TEST],\n",
    "                                   prediction[TRAINLENGTH:TRAINLENGTH+TEST],\n",
    "                                   multioutput='raw_values',\n",
    "                                   squared=False)/MINMAX) # Broadcasts over array dims\n",
    "    print(f'Size {sizes[i]} NRMSE {nrmse:.2f}')\n",
    "    error_arr[i] = nrmse\n",
    "\n",
    "sigerr_str = ['./NBoutputs/mmX',\n",
    "              './NBoutputs/mmZ',\n",
    "              './NBoutputs/mmMG',\n",
    "              './NBoutputs/mmL3D']\n",
    "\n",
    "np.save(sigerr_str[SIGNUM],error_arr)"
   ]
  },
  {
   "cell_type": "code",
   "execution_count": 6,
   "id": "d14f3e84",
   "metadata": {},
   "outputs": [
    {
     "data": {
      "text/plain": [
       "array([0.22291012, 0.21130849, 0.21532181, 0.20592399, 0.21624743,\n",
       "       0.22193055, 0.20419782, 0.22429221, 0.20998573, 0.21500659,\n",
       "       0.20992591, 0.21449938, 0.22536557, 0.23729644, 0.18127746])"
      ]
     },
     "execution_count": 6,
     "metadata": {},
     "output_type": "execute_result"
    }
   ],
   "source": [
    "# sizes = [50,100,200,300,400,500,600,700,800,900,1000]\n",
    "# X error\n",
    "# error_arr"
   ]
  },
  {
   "cell_type": "code",
   "execution_count": 8,
   "id": "71201168",
   "metadata": {},
   "outputs": [
    {
     "data": {
      "text/plain": [
       "array([0.        , 0.08740439, 0.07315155, 0.09099324, 0.09164545,\n",
       "       0.09170231, 0.0864561 , 0.08789855, 0.08695369, 0.07588717,\n",
       "       0.09108499, 0.08146496, 0.09152717, 0.07819455, 0.10519117])"
      ]
     },
     "execution_count": 8,
     "metadata": {},
     "output_type": "execute_result"
    }
   ],
   "source": [
    "# Z error\n",
    "# error_arr"
   ]
  },
  {
   "cell_type": "code",
   "execution_count": 13,
   "id": "a72d89a4",
   "metadata": {},
   "outputs": [
    {
     "data": {
      "text/plain": [
       "array([0.20129788, 0.17380758, 0.18641412, 0.17410413, 0.17215953,\n",
       "       0.1777001 , 0.18968838, 0.18230476, 0.18467843, 0.15623653,\n",
       "       0.18381413, 0.17341621, 0.1374649 , 0.17331748, 0.15091053])"
      ]
     },
     "execution_count": 13,
     "metadata": {},
     "output_type": "execute_result"
    }
   ],
   "source": [
    "# L3D error\n",
    "# error_arr"
   ]
  },
  {
   "cell_type": "code",
   "execution_count": 16,
   "id": "e0458393",
   "metadata": {},
   "outputs": [
    {
     "data": {
      "text/plain": [
       "array([0.02498525, 0.02907307, 0.02937277, 0.02947341, 0.02944896,\n",
       "       0.02956742, 0.02874622, 0.02952656, 0.02958525, 0.029441  ,\n",
       "       0.02961174, 0.02960487, 0.02962068, 0.02965921, 0.02959205])"
      ]
     },
     "execution_count": 16,
     "metadata": {},
     "output_type": "execute_result"
    }
   ],
   "source": [
    "# MG error\n",
    "# error_arr"
   ]
  },
  {
   "cell_type": "code",
   "execution_count": null,
   "id": "fb6d2b3b",
   "metadata": {},
   "outputs": [],
   "source": []
  }
 ],
 "metadata": {
  "kernelspec": {
   "display_name": "Python 3 (ipykernel)",
   "language": "python",
   "name": "python3"
  },
  "language_info": {
   "codemirror_mode": {
    "name": "ipython",
    "version": 3
   },
   "file_extension": ".py",
   "mimetype": "text/x-python",
   "name": "python",
   "nbconvert_exporter": "python",
   "pygments_lexer": "ipython3",
   "version": "3.8.12"
  }
 },
 "nbformat": 4,
 "nbformat_minor": 5
}
