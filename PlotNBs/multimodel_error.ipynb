{
 "cells": [
  {
   "cell_type": "code",
   "execution_count": 2,
   "id": "0803d51d",
   "metadata": {},
   "outputs": [],
   "source": [
    "import os\n",
    "import sys\n",
    "sys.path.insert(1,'/home/bwhiteak/ChaosESN/ESN_utils/')\n",
    "from sklearn.metrics import mean_squared_error\n",
    "import numpy as np\n",
    "import rc_analysis as rca"
   ]
  },
  {
   "cell_type": "code",
   "execution_count": 3,
   "id": "bec41049",
   "metadata": {},
   "outputs": [],
   "source": [
    "def cosine_distance(signal,pred):\n",
    "    av = signal[TRAINLENGTH:TRAINLENGTH+TEST].reshape(TEST,1)\n",
    "    av = av - np.mean(av)\n",
    "    bv = np.squeeze(pred[TRAINLENGTH:TRAINLENGTH+TEST]).reshape(TEST,1)\n",
    "    bv = bv-np.mean(bv)\n",
    "    num = np.squeeze(np.dot(av.T,bv))\n",
    "    den = np.linalg.norm(av)*np.linalg.norm(bv)\n",
    "    cosine_similarity = num/den\n",
    "    return 1 - cosine_similarity"
   ]
  },
  {
   "cell_type": "code",
   "execution_count": 11,
   "id": "01c608f6",
   "metadata": {},
   "outputs": [
    {
     "name": "stdout",
     "output_type": "stream",
     "text": [
      "Target Xsignal.npy shape is (16000,)\n",
      "Size 10 NRMSE 0.22 Cosine Distance 0.60 loss 0.83\n",
      "Size 20 NRMSE 0.21 Cosine Distance 0.53 loss 0.74\n",
      "Size 30 NRMSE 0.22 Cosine Distance 0.53 loss 0.75\n",
      "Size 40 NRMSE 0.21 Cosine Distance 0.49 loss 0.70\n",
      "Size 50 NRMSE 0.22 Cosine Distance 0.52 loss 0.73\n",
      "Size 100 NRMSE 0.22 Cosine Distance 0.57 loss 0.79\n",
      "Size 200 NRMSE 0.20 Cosine Distance 0.47 loss 0.67\n",
      "Size 300 NRMSE 0.22 Cosine Distance 0.60 loss 0.82\n",
      "Size 400 NRMSE 0.21 Cosine Distance 0.47 loss 0.68\n",
      "Size 500 NRMSE 0.22 Cosine Distance 0.54 loss 0.75\n",
      "Size 600 NRMSE 0.21 Cosine Distance 0.50 loss 0.71\n",
      "Size 700 NRMSE 0.21 Cosine Distance 0.55 loss 0.76\n",
      "Size 800 NRMSE 0.23 Cosine Distance 0.59 loss 0.81\n",
      "Size 900 NRMSE 0.24 Cosine Distance 0.65 loss 0.89\n",
      "Size 1000 NRMSE 0.18 Cosine Distance 0.37 loss 0.55\n"
     ]
    }
   ],
   "source": [
    "# Get target and predictions\n",
    "TRAINLENGTH = 14000 # For MG 19700\n",
    "TEST = 1000         # for MG 300\n",
    "SIGNUM = 0\n",
    "# Load target signal\n",
    "sig_str = ['X','Z','MG','L3D']\n",
    "target_dir = '../Targets'\n",
    "target_signals = ['Xsignal.npy',\n",
    "                  'Zsignal.npy',\n",
    "                  'MGsignal.npy',\n",
    "                  'L3Dsignal.npy']\n",
    "fpath = os.path.join(target_dir,target_signals[SIGNUM])\n",
    "target = np.load(fpath, allow_pickle=True)\n",
    "# Find range for NRMSE\n",
    "MINMAX = np.max(target[:TRAINLENGTH+TEST]) - \\\n",
    "         np.min(target[:TRAINLENGTH+TEST]) \n",
    "print(f'Target {target_signals[SIGNUM]} shape is {target.shape}')\n",
    "\n",
    "# Load in model predictions\n",
    "model_dir = ['../X_Saved_Models',\n",
    "             '../Z_Saved_Models',\n",
    "             '../MG_Saved_Models',\n",
    "             '../L3D_Saved_Models']\n",
    "preds_dir = 'best/Preds'\n",
    "sizes = [10,20,30,40,50,100,200,300,400,500,600,700,800,900,1000]\n",
    "error_arr = np.zeros(len(sizes))\n",
    "cd_arr = np.zeros(len(sizes))\n",
    "\n",
    "for i in range(len(sizes)):\n",
    "    pred_str  = f'{sig_str[SIGNUM]}_{sizes[i]}_Preds.npy'\n",
    "    fppath = os.path.join(model_dir[SIGNUM],preds_dir,pred_str)\n",
    "    try:\n",
    "        loaded_pred = np.load(fppath, allow_pickle=True)\n",
    "    except:\n",
    "        print('Failed on... ', fppath)\n",
    "        error_arr[i] = np.NAN\n",
    "        continue\n",
    "    prediction = np.squeeze(loaded_pred)\n",
    "    if(SIGNUM != 3):\n",
    "        nrmse = rca.NRMSE(target[TRAINLENGTH:TRAINLENGTH+TEST],\n",
    "                          prediction[TRAINLENGTH:TRAINLENGTH+TEST],\n",
    "                          MINMAX)\n",
    "        cd = cosine_distance(target,prediction)\n",
    "    else:\n",
    "        nrmse = np.max(mean_squared_error(target[TRAINLENGTH:TRAINLENGTH+TEST],\n",
    "                                   prediction[TRAINLENGTH:TRAINLENGTH+TEST],\n",
    "                                   multioutput='raw_values',\n",
    "                                   squared=False)/MINMAX) # Broadcasts over array dims\n",
    "        \n",
    "    print(f'Size {sizes[i]} NRMSE {nrmse:.2f} Cosine Distance {cd:.2f} loss {(nrmse+cd):.2f}')\n",
    "    error_arr[i] = nrmse\n",
    "    cd_arr[i] = cd\n",
    "\n",
    "sigerr_str = ['./NBoutputs/ERRmmX',\n",
    "              './NBoutputs/ERRmmZ',\n",
    "              './NBoutputs/ERRmmMG',\n",
    "              './NBoutputs/ERRmmL3D']\n",
    "\n",
    "sigcd_str = ['./NBoutputs/CDmmX',\n",
    "              './NBoutputs/CDmmZ',\n",
    "              './NBoutputs/CDmmMG',\n",
    "              './NBoutputs/CDmmL3D']\n",
    "\n",
    "\n",
    "\n",
    "np.save(sigerr_str[SIGNUM],error_arr)\n",
    "np.save(sigcd_str[SIGNUM],cd_arr)"
   ]
  },
  {
   "cell_type": "code",
   "execution_count": null,
   "id": "388f5971",
   "metadata": {},
   "outputs": [],
   "source": []
  }
 ],
 "metadata": {
  "kernelspec": {
   "display_name": "Python 3 (ipykernel)",
   "language": "python",
   "name": "python3"
  },
  "language_info": {
   "codemirror_mode": {
    "name": "ipython",
    "version": 3
   },
   "file_extension": ".py",
   "mimetype": "text/x-python",
   "name": "python",
   "nbconvert_exporter": "python",
   "pygments_lexer": "ipython3",
   "version": "3.8.12"
  }
 },
 "nbformat": 4,
 "nbformat_minor": 5
}
