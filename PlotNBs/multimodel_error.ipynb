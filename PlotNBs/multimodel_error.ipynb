{
 "cells": [
  {
   "cell_type": "code",
   "execution_count": 1,
   "id": "0803d51d",
   "metadata": {},
   "outputs": [],
   "source": [
    "import os\n",
    "import sys\n",
    "sys.path.insert(1,'/home/bwhiteak/ChaosESN/ESN_utils/')\n",
    "from sklearn.metrics import mean_squared_error\n",
    "import numpy as np\n",
    "import rc_analysis as rca"
   ]
  },
  {
   "cell_type": "code",
   "execution_count": 17,
   "id": "01c608f6",
   "metadata": {},
   "outputs": [
    {
     "name": "stdout",
     "output_type": "stream",
     "text": [
      "Target Xsignal.npy shape is (16000,)\n",
      "NRMSE 0.22\n",
      "NRMSE 0.22\n",
      "NRMSE 0.20\n",
      "NRMSE 0.22\n",
      "NRMSE 0.21\n",
      "NRMSE 0.22\n",
      "NRMSE 0.21\n",
      "NRMSE 0.21\n",
      "NRMSE 0.23\n",
      "NRMSE 0.24\n",
      "NRMSE 0.18\n"
     ]
    }
   ],
   "source": [
    "# Get target and predictions\n",
    "TRAINLENGTH = 14000 \n",
    "TEST = 1000\n",
    "SIGNUM = 0\n",
    "# Load target signal\n",
    "target_dir = '../Targets'\n",
    "target_signals = ['Xsignal.npy',\n",
    "                  'Zsignal.npy',\n",
    "                  'MGsignal.npy',\n",
    "                  'L3Dsignal.npy']\n",
    "fpath = os.path.join(target_dir,target_signals[SIGNUM])\n",
    "target = np.load(fpath, allow_pickle=True)\n",
    "# Find range for NRMSE\n",
    "MINMAX = np.max(target[:TRAINLENGTH+TEST]) - \\\n",
    "         np.min(target[:TRAINLENGTH+TEST]) \n",
    "print(f'Target {target_signals[SIGNUM]} shape is {target.shape}')\n",
    "\n",
    "# Load in model predictions\n",
    "model_dir = ['../X_Saved_Models',\n",
    "             '../Z_Saved_Models',\n",
    "             '../MG_Saved_Models',\n",
    "             '../L3D_Saved_Models']\n",
    "preds_dir = 'best/Preds'\n",
    "sizes = [50,100,200,300,400,500,600,700,800,900,1000]\n",
    "error_arr = np.zeros(len(sizes))\n",
    "\n",
    "for i in range(len(sizes)):\n",
    "    pred_str  = f'X_{sizes[i]}_Preds.npy'\n",
    "    fppath = os.path.join(model_dir[SIGNUM],preds_dir,pred_str)\n",
    "    prediction = np.squeeze(np.load(fppath, allow_pickle=True))\n",
    "    if(SIGNUM != 3):\n",
    "        nrmse = rca.NRMSE(target[TRAINLENGTH:TRAINLENGTH+TEST],\n",
    "                          prediction[TRAINLENGTH:TRAINLENGTH+TEST],\n",
    "                          MINMAX)\n",
    "    else:\n",
    "        nrmse = np.max(mean_squared_error(target[TRAINLENGTH:TRAINLENGTH+TEST],\n",
    "                                   prediction[TRAINLENGTH:TRAINLENGTH+TEST],\n",
    "                                   multioutput='raw_values',\n",
    "                                   squared=False)/MINMAX) # Broadcasts over array dims\n",
    "    print(f'NRMSE {nrmse:.2f}')\n",
    "    error_arr[i] = nrmse\n",
    "\n",
    "sigerr_str = ['./NBoutputs/mmX',\n",
    "              './NBoutputs/mmZ',\n",
    "              './NBoutputs/mmMG',\n",
    "              './NBoutputs/mmL3D']\n",
    "\n",
    "#np.save(sigerr_str[SIGNUM],error_arr)"
   ]
  },
  {
   "cell_type": "code",
   "execution_count": 19,
   "id": "d14f3e84",
   "metadata": {},
   "outputs": [
    {
     "data": {
      "text/plain": [
       "array([0.21624743, 0.22193055, 0.20419782, 0.22429221, 0.20998573,\n",
       "       0.21500659, 0.20992591, 0.21449938, 0.22536557, 0.23729644,\n",
       "       0.18127746])"
      ]
     },
     "execution_count": 19,
     "metadata": {},
     "output_type": "execute_result"
    }
   ],
   "source": [
    "# sizes = [50,100,200,300,400,500,600,700,800,900,1000]\n",
    "# X error\n",
    "error_arr"
   ]
  },
  {
   "cell_type": "code",
   "execution_count": 14,
   "id": "71201168",
   "metadata": {},
   "outputs": [
    {
     "data": {
      "text/plain": [
       "array([0.09164545, 0.09170231, 0.0864561 , 0.08789855, 0.08695369,\n",
       "       0.07588717, 0.09108499, 0.08146496, 0.09152717, 0.07819455,\n",
       "       0.10519117])"
      ]
     },
     "execution_count": 14,
     "metadata": {},
     "output_type": "execute_result"
    }
   ],
   "source": [
    "# Z error\n",
    "error_arr"
   ]
  },
  {
   "cell_type": "code",
   "execution_count": 7,
   "id": "a72d89a4",
   "metadata": {},
   "outputs": [
    {
     "data": {
      "text/plain": [
       "array([0.17215953, 0.1777001 , 0.18968838, 0.18230476, 0.18467843,\n",
       "       0.15623653, 0.18381413, 0.17341621, 0.1374649 , 0.17331748,\n",
       "       0.15091053])"
      ]
     },
     "execution_count": 7,
     "metadata": {},
     "output_type": "execute_result"
    }
   ],
   "source": [
    "# L3D error\n",
    "# error_arr"
   ]
  },
  {
   "cell_type": "code",
   "execution_count": 10,
   "id": "e0458393",
   "metadata": {},
   "outputs": [
    {
     "data": {
      "text/plain": [
       "array([0.13606894, 0.12083855, 0.10271021, 0.08772637, 0.06516985,\n",
       "       0.06536826, 0.08461943, 0.08421372, 0.06669223, 0.12072094,\n",
       "       0.18890016])"
      ]
     },
     "execution_count": 10,
     "metadata": {},
     "output_type": "execute_result"
    }
   ],
   "source": [
    "# MG error\n",
    "# error_arr"
   ]
  },
  {
   "cell_type": "code",
   "execution_count": null,
   "id": "fb6d2b3b",
   "metadata": {},
   "outputs": [],
   "source": []
  }
 ],
 "metadata": {
  "kernelspec": {
   "display_name": "Python 3 (ipykernel)",
   "language": "python",
   "name": "python3"
  },
  "language_info": {
   "codemirror_mode": {
    "name": "ipython",
    "version": 3
   },
   "file_extension": ".py",
   "mimetype": "text/x-python",
   "name": "python",
   "nbconvert_exporter": "python",
   "pygments_lexer": "ipython3",
   "version": "3.8.12"
  }
 },
 "nbformat": 4,
 "nbformat_minor": 5
}
